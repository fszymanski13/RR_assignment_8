{
 "cells": [
  {
   "cell_type": "markdown",
   "metadata": {},
   "source": [
    "![logo_BB](img/logo.png)\n",
    "\n",
    "*An American crime drama television series created and produced by Vince Gilligan for AMC.*\n",
    "\n",
    "---\n",
    "\n",
    "## Overview\n",
    "\n",
    "*Set and filmed in Albuquerque, New Mexico, the series follows* **Walter White** *(Bryan Cranston), an underpaid, dispirited high-school chemistry teacher struggling with a recent diagnosis of stage-three lung cancer. White turns to a life of crime and partners with a former student,* **Jesse Pinkman** *(Aaron Paul), to produce and distribute methamphetamine to secure his family's financial future before he dies, while navigating the dangers of the criminal underworld.*\n",
    "\n",
    "---\n",
    "\n",
    "**Premiere Date:** January 20, 2008\n",
    "\n",
    "**Conclusion Date:** September 29, 2013\n",
    "\n",
    "**Number of Seasons:** Five\n",
    "\n",
    "**Total Episodes:** 62\n"
   ]
  }
 ],
 "metadata": {
  "language_info": {
   "name": "python"
  }
 },
 "nbformat": 4,
 "nbformat_minor": 2
}
